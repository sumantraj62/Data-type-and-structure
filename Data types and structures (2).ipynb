{
 "cells": [
  {
   "cell_type": "code",
   "execution_count": null,
   "id": "2483c8d1-7943-4138-a716-6bf1445894fa",
   "metadata": {},
   "outputs": [],
   "source": [
    "#Data type and structure"
   ]
  },
  {
   "cell_type": "markdown",
   "id": "455f0837-53fb-4468-b51e-94eaa39c13e8",
   "metadata": {},
   "source": [
    "1. What are data structures, and why are they important ?\n",
    "\n",
    "Ans:- Data structures play a pivotal role in computer science and programming, as they are essential for storing, organizing, and manipulating data efficiently. Python, a versatile and popular programming language, provides a wide array of data structures to accommodate various needs."
   ]
  },
  {
   "cell_type": "markdown",
   "id": "5f72ac0a-6d7e-4c15-99a0-6e4901416a3a",
   "metadata": {},
   "source": [
    "2. Explain the difference between mutable and immutable data types with examples.\n",
    "\n",
    "Ans:- In mutable, mutable objects are those who change there values and content, modified or update after they have been created.\n",
    "Examples: Include lists, dictionaries, and sets in Python. \n",
    "                                                                    AND\n",
    "In immutable, immutable objects are those who can not change there values and content.\n",
    "Example: Include strings, tuples, and integers in Python"
   ]
  },
  {
   "cell_type": "markdown",
   "id": "070f91d8-7aa8-42bd-a87a-b6e0fbba078f",
   "metadata": {},
   "source": [
    "3. What are the main differences between lists and tuples in Python?\n",
    "\n",
    "Ans:- Lists are mutable, meaning their elements can be modified (added, removed, or changed) after the list has been created.\n",
    "Tuples are immutable, meaning their elements cannot be changed once the tuple is created. Any attempt to modify a tuple will result in an error."
   ]
  },
  {
   "cell_type": "markdown",
   "id": "3750fe14-26f9-4d9a-ab34-4945714aedec",
   "metadata": {},
   "source": [
    "4. Describe how dictionaries store data.\n",
    "\n",
    "Ans:- Dictionaries are key-value pairs that allow you to store and retrieve data based on a unique key. The keys must be immutable, such as strings or numbers. Dictionaries are useful for storing data that needs to be accessed quickly and efficiently."
   ]
  },
  {
   "cell_type": "markdown",
   "id": "9994c793-94c6-46df-bccd-2f53952bf36c",
   "metadata": {},
   "source": [
    "5. Why might you use a set instead of a list in Python?\n",
    "\n",
    "Ans:- Sets inherently store only unique elements. If you need a collection where duplicate values are automatically removed, a set is the ideal choice. Lists, on the other hand, allow for duplicate elements."
   ]
  },
  {
   "cell_type": "markdown",
   "id": "e7ac742b-f16c-425c-a870-c6d19da239fb",
   "metadata": {},
   "source": [
    "6. What is a string in Python, and how is it different from a list?\n",
    "\n",
    "Ans:- In Python, a string is an immutable sequence of characters, used to represent text. A list in Python is a mutable, ordered sequence of items. Unlike strings, lists can contain elements of different data types (e.g., numbers, strings, or even other lists), and their contents can be modified after creation."
   ]
  },
  {
   "cell_type": "markdown",
   "id": "56efac33-f519-45bc-afed-3d925810322c",
   "metadata": {},
   "source": [
    "7. How do tuples ensure data integrity in Python?\n",
    "\n",
    "Ans:- Tuples in Python ensure data integrity primarily through their immutability. This characteristic means that once a tuple is created, its elements cannot be changed, added, or removed. This immutability directly contributes to data integrity."
   ]
  },
  {
   "cell_type": "markdown",
   "id": "c47861eb-c837-4b38-b578-bbeca157639b",
   "metadata": {},
   "source": [
    "8. What is a hash table, and how does it relate to dictionaries in Python?\n",
    "\n",
    "Ans:- A hash table is a data structure that implements an associative array or dictionary, which maps keys to values. It uses a hash function to compute an index into an array of buckets or slots, from which the desired value can be found. The goal is to provide fast average-case time complexity for operations like insertion, deletion, and retrieval."
   ]
  },
  {
   "cell_type": "markdown",
   "id": "25671d42-49e1-45f4-bd19-d243e830c2dd",
   "metadata": {},
   "source": [
    "9. Can lists contain different data types in Python?\n",
    "\n",
    "Ans:- Yes"
   ]
  },
  {
   "cell_type": "markdown",
   "id": "084323b3-c6b2-49cc-b8c7-8067e83c65e6",
   "metadata": {},
   "source": [
    "10. Explain why strings are immutable in Python.\n",
    "\n",
    "Ans:- Strings are immutable in Python, meaning their content cannot be changed after they are created. Any operation that appears to modify a string actually results in the creation of a new string object in memory."
   ]
  },
  {
   "cell_type": "markdown",
   "id": "3acf97c6-63b5-462d-bac7-fbd2acb2fec0",
   "metadata": {},
   "source": [
    "11. What advantages do dictionaries offer over lists for certain tasks?\n",
    "\n",
    "Ans:- Dictionaries offer significant advantages over lists for certain tasks in Python, primarily when data needs to be accessed or organized by a specific identifier rather than by sequential order."
   ]
  },
  {
   "cell_type": "markdown",
   "id": "b4942d53-86f8-443c-aa2a-43f87328bf0f",
   "metadata": {},
   "source": [
    "12. Describe a scenario where using a tuple would be preferable over a list.\n",
    "\n",
    "Ans:- When representing a collection of related, heterogeneous data that should remain constant throughout the program's execution, such as a record or a fixed set of coordinates."
   ]
  },
  {
   "cell_type": "markdown",
   "id": "9e33a050-949a-489f-a95c-af3fcf5d2c9f",
   "metadata": {},
   "source": [
    "13. How do sets handle duplicate values in Python?\n",
    "\n",
    "Ans:- When attempting to add a value that already exists within a set, the set simply ignores the new addition. This means that if you initialize a set with duplicate values or try to add a duplicate value using the add() method, the set will only retain one instance of that value."
   ]
  },
  {
   "cell_type": "markdown",
   "id": "39a1973b-1666-478c-83a4-fd995fc37d0d",
   "metadata": {},
   "source": [
    "14. How does the “in” keyword work differently for lists and dictionaries?\n",
    "\n",
    "Ans:- The in keyword in Python functions differently when used with lists and dictionaries due to their underlying data structures and how they store and retrieve data."
   ]
  },
  {
   "cell_type": "markdown",
   "id": "735bfa17-77b0-41fa-9234-4ba0810d1d6f",
   "metadata": {},
   "source": [
    "15. Can you modify the elements of a tuple? Explain why or why not.\n",
    "\n",
    "Ans:- No, the elements of a tuple cannot be modified directly after the tuple has been created. Tuples in Python are immutable, which means their contents cannot be changed once they are defined. "
   ]
  },
  {
   "cell_type": "markdown",
   "id": "df33cf47-a675-431a-bb6e-43103632fca3",
   "metadata": {},
   "source": [
    "16. What is a nested dictionary, and give an example of its use case?\n",
    "\n",
    "Ans:- A nested dictionary is a dictionary in which the values associated with some keys are themselves other dictionaries. This structure allows for the representation of hierarchical or complex data, where information can be organized in a multi-layered fashion."
   ]
  },
  {
   "cell_type": "markdown",
   "id": "b0f0645a-5a8f-409c-9f56-8f7a614de88b",
   "metadata": {},
   "source": [
    "17. Describe the time complexity of accessing elements in a dictionary.\n",
    "\n",
    "Ans:- This means that, on average, the time it takes to retrieve a value associated with a key does not significantly increase as the size of the dictionary grows."
   ]
  },
  {
   "cell_type": "markdown",
   "id": "75ca4738-77c9-41bb-9d73-d2fcb0efe763",
   "metadata": {},
   "source": [
    "18. In what situations are lists preferred over dictionaries?\n",
    "\n",
    "Ans:- Lists can contain duplicate values, and each instance maintains its distinct position within the sequence. Lists maintain the insertion order of elements. If the sequence of items is crucial, such as in a queue, stack, or a series of steps, a list is the appropriate choice."
   ]
  },
  {
   "cell_type": "markdown",
   "id": "ae6e77a2-d405-4859-aac8-89a8fd86ec63",
   "metadata": {},
   "source": [
    "19. Why are dictionaries considered unordered, and how does that affect data retrieval?\n",
    "\n",
    "Ans:- Dictionaries are considered unordered because they don't store items in a specific sequence based on insertion order or any other predefined order."
   ]
  },
  {
   "cell_type": "markdown",
   "id": "f390594a-337c-4457-8b03-a1118685d5a4",
   "metadata": {},
   "source": [
    "20. Explain the difference between a list and a dictionary in terms of data retrieval.\n",
    "\n",
    "Ans:- Lists: Elements in a list are retrieved by their integer index, which represents their position within the ordered sequence. Indices start from 0 for the first element.\n",
    "Dictionaries: Elements in a dictionary are retrieved by their unique key. Keys are user-defined and can be of various immutable data types (e.g., strings, numbers, tuples)."
   ]
  },
  {
   "cell_type": "raw",
   "id": "76cfc02f-0fbf-44fa-b913-f5de08907bd0",
   "metadata": {},
   "source": []
  },
  {
   "cell_type": "markdown",
   "id": "8c5e98be-8ff9-4143-b69c-0644cff0b371",
   "metadata": {},
   "source": [
    "Pratical Questions."
   ]
  },
  {
   "cell_type": "raw",
   "id": "04251cbb-52fa-4299-81c8-0d6df4a6a4c8",
   "metadata": {},
   "source": [
    "1. Write a code to create a string with your name and print it."
   ]
  },
  {
   "cell_type": "code",
   "execution_count": 3,
   "id": "a9ad1fb9-0815-4108-a072-19a0c99fc7b5",
   "metadata": {},
   "outputs": [
    {
     "data": {
      "text/plain": [
       "'Sumant raj'"
      ]
     },
     "execution_count": 3,
     "metadata": {},
     "output_type": "execute_result"
    }
   ],
   "source": [
    "Name = \"Sumant raj\"\n",
    "Name"
   ]
  },
  {
   "cell_type": "raw",
   "id": "be59ed25-fd53-44cf-804d-67cbb9f6fbfd",
   "metadata": {},
   "source": [
    "2.Write a code to find the length of the string \"Hello World\"."
   ]
  },
  {
   "cell_type": "code",
   "execution_count": 4,
   "id": "2fda0768-5553-44c6-ba12-11bbcd1ea7d7",
   "metadata": {},
   "outputs": [
    {
     "data": {
      "text/plain": [
       "11"
      ]
     },
     "execution_count": 4,
     "metadata": {},
     "output_type": "execute_result"
    }
   ],
   "source": [
    "string = \"Hello world\"\n",
    "len(string)"
   ]
  },
  {
   "cell_type": "raw",
   "id": "a56d4720-816b-4f77-ac81-bfac6947fed7",
   "metadata": {},
   "source": [
    "3.Write a code to slice the first 3 characters from the string \"Python Programming\"."
   ]
  },
  {
   "cell_type": "code",
   "execution_count": 5,
   "id": "153b463a-f630-4066-abba-44153004d078",
   "metadata": {},
   "outputs": [
    {
     "name": "stdout",
     "output_type": "stream",
     "text": [
      "Pyt\n"
     ]
    }
   ],
   "source": [
    "string = \"Python Programming\"\n",
    "sliced_string = string[:3]\n",
    "print(sliced_string)"
   ]
  },
  {
   "cell_type": "raw",
   "id": "4c7350de-3b4c-4aac-ab92-476ce744293e",
   "metadata": {},
   "source": [
    "4. Write a code to convert the string \"hello\" to uppercase."
   ]
  },
  {
   "cell_type": "code",
   "execution_count": 6,
   "id": "cab9a071-f673-499b-b889-c8dcc15a6f94",
   "metadata": {},
   "outputs": [
    {
     "data": {
      "text/plain": [
       "'HELLO'"
      ]
     },
     "execution_count": 6,
     "metadata": {},
     "output_type": "execute_result"
    }
   ],
   "source": [
    "text = \"hello\"\n",
    "text.upper()"
   ]
  },
  {
   "cell_type": "raw",
   "id": "d8f5209d-5a1c-488e-8e76-b326b5ca0ae4",
   "metadata": {},
   "source": [
    "5. Write a code to replace the word \"apple\" with \"orange\" in the string \"I like apple\"."
   ]
  },
  {
   "cell_type": "code",
   "execution_count": 7,
   "id": "a1dbc170-af61-477c-bca2-77bd364825dc",
   "metadata": {},
   "outputs": [
    {
     "data": {
      "text/plain": [
       "'banana, mango, orange'"
      ]
     },
     "execution_count": 7,
     "metadata": {},
     "output_type": "execute_result"
    }
   ],
   "source": [
    "shopping_list = \"banana, mango, apple\"\n",
    "shopping_list.replace(\"apple\", \"orange\")"
   ]
  },
  {
   "cell_type": "raw",
   "id": "515147d8-bcb6-4fb6-aeaa-7be03ec71c7d",
   "metadata": {},
   "source": [
    "6. Write a code to create a list with numbers 1 to 5 and print it."
   ]
  },
  {
   "cell_type": "code",
   "execution_count": 8,
   "id": "c2ed0911-bd4a-4d79-8422-19dcf209a8c9",
   "metadata": {},
   "outputs": [
    {
     "data": {
      "text/plain": [
       "[1, 2, 3, 4, 5]"
      ]
     },
     "execution_count": 8,
     "metadata": {},
     "output_type": "execute_result"
    }
   ],
   "source": [
    "list_number = [1, 2, 3, 4, 5]\n",
    "list_number"
   ]
  },
  {
   "cell_type": "raw",
   "id": "882c35ba-bc12-4db5-b316-7af57599fd83",
   "metadata": {},
   "source": [
    "7. Write a code to append the number 10 to the list [1, 2, 3, 4]."
   ]
  },
  {
   "cell_type": "code",
   "execution_count": 10,
   "id": "9ee59378-0023-4665-8588-1a43b7fdc803",
   "metadata": {},
   "outputs": [
    {
     "name": "stdout",
     "output_type": "stream",
     "text": [
      "[1, 2, 3, 4, 10]\n"
     ]
    }
   ],
   "source": [
    "number = [1, 2, 3, 4]\n",
    "number.append(10)\n",
    "print(number)"
   ]
  },
  {
   "cell_type": "raw",
   "id": "3b7fdebf-5dd4-4b2b-812c-018860c76ec7",
   "metadata": {},
   "source": [
    "8.Write a code to remove the number 3 from the list [1, 2, 3, 4, 5]."
   ]
  },
  {
   "cell_type": "code",
   "execution_count": 12,
   "id": "91a05e43-62af-41e9-96d2-110860e986d4",
   "metadata": {},
   "outputs": [
    {
     "name": "stdout",
     "output_type": "stream",
     "text": [
      "[1, 2, 4, 5]\n"
     ]
    }
   ],
   "source": [
    "my_list = [1, 2, 3, 4, 5]\n",
    "my_list.remove(3)\n",
    "print(my_list)"
   ]
  },
  {
   "cell_type": "raw",
   "id": "8256f366-6b5d-41a1-b6ef-7399df6f1dfd",
   "metadata": {},
   "source": [
    "9. Write a code to access the second element in the list ['a', 'b', 'c', 'd']."
   ]
  },
  {
   "cell_type": "code",
   "execution_count": 15,
   "id": "a88922ee-a0d1-4e32-a2d7-b0ca469e73de",
   "metadata": {},
   "outputs": [
    {
     "name": "stdout",
     "output_type": "stream",
     "text": [
      "b\n"
     ]
    }
   ],
   "source": [
    "my_list = ['a', 'b', 'c', 'd']\n",
    "second_element = my_list[1]\n",
    "print(second_element)"
   ]
  },
  {
   "cell_type": "raw",
   "id": "8962f4a6-4e8e-4fd0-8c29-fc626e7f90b7",
   "metadata": {},
   "source": [
    "10. Write a code to reverse the list [10, 20, 30, 40, 50]."
   ]
  },
  {
   "cell_type": "code",
   "execution_count": 16,
   "id": "1d97b1d2-89c7-4022-bc0a-904c61d11fab",
   "metadata": {},
   "outputs": [
    {
     "name": "stdout",
     "output_type": "stream",
     "text": [
      "[50, 40, 30, 20, 10]\n"
     ]
    }
   ],
   "source": [
    "my_list = [10, 20, 30, 40, 50]\n",
    "my_list.reverse()\n",
    "print(my_list)"
   ]
  },
  {
   "cell_type": "raw",
   "id": "a91a4625-b68b-4146-b671-1223beb26621",
   "metadata": {},
   "source": [
    "11. Write a code to create a tuple with the elements 100, 200, 300 and print it."
   ]
  },
  {
   "cell_type": "code",
   "execution_count": 17,
   "id": "6a4947be-9a6b-4bb1-b9ab-80de87c2e97b",
   "metadata": {},
   "outputs": [
    {
     "name": "stdout",
     "output_type": "stream",
     "text": [
      "(100, 200, 300)\n"
     ]
    }
   ],
   "source": [
    "my_tuple = (100, 200, 300)\n",
    "print(my_tuple)"
   ]
  },
  {
   "cell_type": "raw",
   "id": "7075eb0c-1be5-4392-95d0-1b1bf7a3ccd3",
   "metadata": {},
   "source": [
    "12. Write a code to access the second-to-last element of the tuple ('red', 'green', 'blue', 'yellow')."
   ]
  },
  {
   "cell_type": "code",
   "execution_count": 19,
   "id": "c33e9490-b9b4-4673-b4ba-616983f761af",
   "metadata": {},
   "outputs": [
    {
     "name": "stdout",
     "output_type": "stream",
     "text": [
      "blue\n"
     ]
    }
   ],
   "source": [
    "my_tuple = ('red', 'green', 'blue', 'yellow')\n",
    "second_to_last = my_tuple[2]\n",
    "print(second_to_last)"
   ]
  },
  {
   "cell_type": "raw",
   "id": "16ba2bea-6304-47f0-bf6c-cf65c456cfb9",
   "metadata": {},
   "source": [
    "13. Write a code to find the minimum number in the tuple (10, 20, 5, 15)."
   ]
  },
  {
   "cell_type": "code",
   "execution_count": 20,
   "id": "bf8a3a0a-8a66-42ce-ab64-0c9354d2f6a9",
   "metadata": {},
   "outputs": [
    {
     "name": "stdout",
     "output_type": "stream",
     "text": [
      "The minimum number in the tuple is: 5\n"
     ]
    }
   ],
   "source": [
    "numbers = (10, 20, 5, 15)\n",
    "minimum_number = min(numbers)\n",
    "print(f\"The minimum number in the tuple is: {minimum_number}\")"
   ]
  },
  {
   "cell_type": "raw",
   "id": "a7a7c4d3-b3b0-4c5f-8930-de0a30f335c0",
   "metadata": {},
   "source": [
    "14. Write a code to find the index of the element \"cat\" in the tuple ('dog', 'cat', 'rabbit')."
   ]
  },
  {
   "cell_type": "code",
   "execution_count": 21,
   "id": "bae934b1-a07e-4684-8fdf-deaeae49f672",
   "metadata": {},
   "outputs": [
    {
     "name": "stdout",
     "output_type": "stream",
     "text": [
      "The index of 'cat' is: 1\n"
     ]
    }
   ],
   "source": [
    "my_tuple = ('dog', 'cat', 'rabbit')\n",
    "element_to_find = 'cat'\n",
    "\n",
    "try:\n",
    "    index = my_tuple.index(element_to_find)\n",
    "    print(f\"The index of '{element_to_find}' is: {index}\")\n",
    "except ValueError:\n",
    "    print(f\"'{element_to_find}' is not found in the tuple.\")"
   ]
  },
  {
   "cell_type": "raw",
   "id": "1aecebe6-f8a9-43eb-8dff-1a75e808b411",
   "metadata": {},
   "source": [
    "15. Write a code to create a tuple containing three different fruits and check if \"kiwi\" is in it."
   ]
  },
  {
   "cell_type": "code",
   "execution_count": 22,
   "id": "d10c1183-595d-454f-a84f-911c95a3c45b",
   "metadata": {},
   "outputs": [
    {
     "name": "stdout",
     "output_type": "stream",
     "text": [
      "Kiwi is in the tuple.\n"
     ]
    }
   ],
   "source": [
    "fruits_tuple = (\"apple\", \"banana\", \"orange\", \"kiwi\")\n",
    "if \"kiwi\" in fruits_tuple:\n",
    "    print(\"Kiwi is in the tuple.\")\n",
    "else:\n",
    "    print(\"Kiwi is not in the tuple.\")"
   ]
  },
  {
   "cell_type": "raw",
   "id": "4ecfd0a8-e393-4bcb-99cd-df2b483cfc60",
   "metadata": {},
   "source": [
    "16.  Write a code to create a set with the elements 'a', 'b', 'c' and print it."
   ]
  },
  {
   "cell_type": "code",
   "execution_count": 23,
   "id": "8f600fa6-5f9f-4843-9797-35c0f2bb2697",
   "metadata": {},
   "outputs": [
    {
     "name": "stdout",
     "output_type": "stream",
     "text": [
      "{'c', 'a', 'b'}\n"
     ]
    }
   ],
   "source": [
    "my_set = {'a', 'b', 'c'}\n",
    "print(my_set)"
   ]
  },
  {
   "cell_type": "raw",
   "id": "adc3ca0c-da74-483a-bd43-fb28c0ed66aa",
   "metadata": {},
   "source": [
    "17. Write a code to clear all elements from the set {1, 2, 3, 4, 5}."
   ]
  },
  {
   "cell_type": "code",
   "execution_count": 25,
   "id": "543a51c1-7057-4571-ad44-a8d5b527513d",
   "metadata": {},
   "outputs": [
    {
     "name": "stdout",
     "output_type": "stream",
     "text": [
      "set()\n"
     ]
    }
   ],
   "source": [
    "my_set = {1, 2, 3, 4, 5}\n",
    "my_set.clear()\n",
    "print(my_set)"
   ]
  },
  {
   "cell_type": "raw",
   "id": "b933af73-7be0-4eb3-a9d8-09f44083335e",
   "metadata": {},
   "source": [
    "18. Write a code to remove the element 4 from the set {1, 2, 3, 4}."
   ]
  },
  {
   "cell_type": "code",
   "execution_count": 26,
   "id": "00a78f3f-7a7e-4d37-913e-0342515f6ea7",
   "metadata": {},
   "outputs": [
    {
     "name": "stdout",
     "output_type": "stream",
     "text": [
      "{1, 2, 3}\n"
     ]
    }
   ],
   "source": [
    "my_set = {1, 2, 3, 4}\n",
    "my_set.remove(4)\n",
    "print(my_set)"
   ]
  },
  {
   "cell_type": "raw",
   "id": "27257dc0-f54d-4006-957e-bed0db1af76e",
   "metadata": {},
   "source": [
    "19. Write a code to find the union of two sets {1, 2, 3} and {3, 4, 5}."
   ]
  },
  {
   "cell_type": "code",
   "execution_count": 27,
   "id": "41915b7d-cf09-4ab6-a513-1dba0c3e062e",
   "metadata": {},
   "outputs": [
    {
     "name": "stdout",
     "output_type": "stream",
     "text": [
      "{1, 2, 3, 4, 5}\n"
     ]
    }
   ],
   "source": [
    "set1 = {1, 2, 3}\n",
    "set2 = {3, 4, 5}\n",
    "\n",
    "union_set = set1.union(set2)\n",
    "print(union_set)"
   ]
  },
  {
   "cell_type": "raw",
   "id": "fd358c9d-7b24-466f-bda4-881aa517cefd",
   "metadata": {},
   "source": [
    "20. Write a code to find the intersection of two sets {1, 2, 3} and {2, 3, 4}."
   ]
  },
  {
   "cell_type": "code",
   "execution_count": 28,
   "id": "dc81c482-f096-4e62-a5cb-d3d87e695cc9",
   "metadata": {},
   "outputs": [
    {
     "name": "stdout",
     "output_type": "stream",
     "text": [
      "Intersection using intersection() method: {2, 3}\n",
      "Intersection using & operator: {2, 3}\n"
     ]
    }
   ],
   "source": [
    "set1 = {1, 2, 3}\n",
    "set2 = {2, 3, 4}\n",
    "intersection_set_method = set1.intersection(set2)\n",
    "print(f\"Intersection using intersection() method: {intersection_set_method}\")\n",
    "intersection_set_operator = set1 & set2\n",
    "print(f\"Intersection using & operator: {intersection_set_operator}\")"
   ]
  },
  {
   "cell_type": "raw",
   "id": "24b27ac0-3126-45c1-a3b3-17b1738d79c6",
   "metadata": {},
   "source": [
    "21. Write a code to create a dictionary with the keys \"name\", \"age\", and \"city\", and print it."
   ]
  },
  {
   "cell_type": "code",
   "execution_count": 29,
   "id": "0740bb0f-3c28-4122-a112-4d726232779b",
   "metadata": {},
   "outputs": [
    {
     "name": "stdout",
     "output_type": "stream",
     "text": [
      "{'name': 'Alice', 'age': 30, 'city': 'New York'}\n"
     ]
    }
   ],
   "source": [
    "person_info = {\n",
    "    \"name\": \"Alice\",\n",
    "    \"age\": 30,\n",
    "    \"city\": \"New York\"\n",
    "}\n",
    "print(person_info)"
   ]
  },
  {
   "cell_type": "raw",
   "id": "e6ca9e6b-9f35-4b93-aa23-dab453c03ac1",
   "metadata": {},
   "source": [
    "22. Write a code to add a new key-value pair \"country\": \"USA\" to the dictionary {'name': 'John', 'age': 25}."
   ]
  },
  {
   "cell_type": "code",
   "execution_count": 30,
   "id": "c14277d2-28c8-4acd-96b1-0ac9caeb74b5",
   "metadata": {},
   "outputs": [
    {
     "name": "stdout",
     "output_type": "stream",
     "text": [
      "{'name': 'John', 'age': 25, 'country': 'USA'}\n"
     ]
    }
   ],
   "source": [
    "my_dict = {'name': 'John', 'age': 25}\n",
    "my_dict['country'] = 'USA'\n",
    "print(my_dict)"
   ]
  },
  {
   "cell_type": "raw",
   "id": "5a36a72c-1dbd-4e17-ad11-e8fc65744a56",
   "metadata": {},
   "source": [
    "23. Write a code to access the value associated with the key \"name\" in the dictionary {'name': 'Alice', 'age': 30}."
   ]
  },
  {
   "cell_type": "code",
   "execution_count": 31,
   "id": "ee07217d-2eef-4ee6-9c63-3dda6e154f31",
   "metadata": {},
   "outputs": [
    {
     "name": "stdout",
     "output_type": "stream",
     "text": [
      "Alice\n"
     ]
    }
   ],
   "source": [
    "my_dict = {'name': 'Alice', 'age': 30}\n",
    "name_value = my_dict['name']\n",
    "print(name_value)"
   ]
  },
  {
   "cell_type": "raw",
   "id": "409070bd-59e1-47a1-b2f1-befaf6cbcbf0",
   "metadata": {},
   "source": [
    "24. Write a code to remove the key \"age\" from the dictionary {'name': 'Bob', 'age': 22, 'city': 'New York'}."
   ]
  },
  {
   "cell_type": "code",
   "execution_count": null,
   "id": "fcd4e9df-4e39-4c05-be6e-543483451bcc",
   "metadata": {},
   "outputs": [],
   "source": []
  },
  {
   "cell_type": "raw",
   "id": "69ec2afa-3c4a-46ef-9783-53241e35f728",
   "metadata": {},
   "source": [
    "25. Write a code to check if the key \"city\" exists in the dictionary {'name': 'Alice', 'city': 'Paris'}."
   ]
  },
  {
   "cell_type": "code",
   "execution_count": 32,
   "id": "87c067b6-cc49-4363-9c04-30f6358b3dbe",
   "metadata": {},
   "outputs": [
    {
     "name": "stdout",
     "output_type": "stream",
     "text": [
      "The key 'city' exists in the dictionary.\n"
     ]
    }
   ],
   "source": [
    "my_dict = {'name': 'Alice', 'city': 'Paris'}\n",
    "\n",
    "if 'city' in my_dict:\n",
    "    print(\"The key 'city' exists in the dictionary.\")\n",
    "else:\n",
    "    print(\"The key 'city' does not exist in the dictionary.\")"
   ]
  },
  {
   "cell_type": "raw",
   "id": "cdefec4b-707b-42b6-a73c-6a221ff84717",
   "metadata": {},
   "source": [
    "26. Write a code to create a list, a tuple, and a dictionary, and print them all."
   ]
  },
  {
   "cell_type": "code",
   "execution_count": 33,
   "id": "2d678118-3e67-4488-95d5-db8dc84d0ad6",
   "metadata": {},
   "outputs": [
    {
     "name": "stdout",
     "output_type": "stream",
     "text": [
      "My List: [10, 'hello', True, 3.14]\n",
      "My Tuple: (20, 'world', False, 2.71)\n",
      "My Dictionary: {'name': 'Alice', 'age': 30, 'city': 'New York'}\n"
     ]
    }
   ],
   "source": [
    "# Create a list\n",
    "my_list = [10, \"hello\", True, 3.14]\n",
    "\n",
    "# Create a tuple\n",
    "my_tuple = (20, \"world\", False, 2.71)\n",
    "\n",
    "# Create a dictionary\n",
    "my_dictionary = {\n",
    "    \"name\": \"Alice\",\n",
    "    \"age\": 30,\n",
    "    \"city\": \"New York\"\n",
    "}\n",
    "\n",
    "# Print the list\n",
    "print(\"My List:\", my_list)\n",
    "\n",
    "# Print the tuple\n",
    "print(\"My Tuple:\", my_tuple)\n",
    "\n",
    "# Print the dictionary\n",
    "print(\"My Dictionary:\", my_dictionary)"
   ]
  },
  {
   "cell_type": "raw",
   "id": "4c1468f2-f810-47d2-8ce8-29ffba566b4f",
   "metadata": {},
   "source": [
    "27. Write a code to create a list of 5 random numbers between 1 and 100, sort it in ascending order, and print the\n",
    "result.(replaced)"
   ]
  },
  {
   "cell_type": "code",
   "execution_count": 34,
   "id": "cb89f70e-7c49-4765-b204-3a37b7a44a3b",
   "metadata": {},
   "outputs": [
    {
     "name": "stdout",
     "output_type": "stream",
     "text": [
      "[18, 26, 26, 56, 79]\n"
     ]
    }
   ],
   "source": [
    "import random\n",
    "\n",
    "# Create an empty list to store the random numbers\n",
    "random_numbers = []\n",
    "\n",
    "# Generate 5 random numbers between 1 and 100 (inclusive)\n",
    "for _ in range(5):\n",
    "    random_numbers.append(random.randint(1, 100))\n",
    "\n",
    "# Sort the list in ascending order\n",
    "random_numbers.sort()\n",
    "\n",
    "# Print the sorted list\n",
    "print(random_numbers)"
   ]
  },
  {
   "cell_type": "raw",
   "id": "01091e86-01f4-465c-81f2-c3f9896e66c2",
   "metadata": {},
   "source": [
    "28. Write a code to create a list with strings and print the element at the third index."
   ]
  },
  {
   "cell_type": "code",
   "execution_count": 35,
   "id": "de338a2b-e42c-4f37-9c42-ef6ced8885ef",
   "metadata": {},
   "outputs": [
    {
     "name": "stdout",
     "output_type": "stream",
     "text": [
      "date\n"
     ]
    }
   ],
   "source": [
    "my_list = [\"apple\", \"banana\", \"cherry\", \"date\", \"elderberry\"]\n",
    "print(my_list[3])"
   ]
  },
  {
   "cell_type": "raw",
   "id": "0416f717-0527-46be-8e76-005888ed8a12",
   "metadata": {},
   "source": [
    "29. Write a code to combine two dictionaries into one and print the result."
   ]
  },
  {
   "cell_type": "code",
   "execution_count": 36,
   "id": "2eca3a8b-add0-4ce3-8e61-e6a0cdef3076",
   "metadata": {},
   "outputs": [
    {
     "name": "stdout",
     "output_type": "stream",
     "text": [
      "{'a': 1, 'b': 4, 'c': 3}\n"
     ]
    }
   ],
   "source": [
    "dict1 = {'a': 1, 'b': 2}\n",
    "dict2 = {'c': 3, 'b': 4} # 'b' is a duplicate key\n",
    "\n",
    "merged_dict = {**dict1, **dict2}\n",
    "print(merged_dict)"
   ]
  },
  {
   "cell_type": "raw",
   "id": "74d1d369-3d46-4f24-89bc-abac43767bae",
   "metadata": {},
   "source": [
    "30. Write a code to convert a list of strings into a set."
   ]
  },
  {
   "cell_type": "code",
   "execution_count": 37,
   "id": "62d3f30d-7f9e-40f9-9b4c-89010b6f6d45",
   "metadata": {},
   "outputs": [
    {
     "name": "stdout",
     "output_type": "stream",
     "text": [
      "{'grape', 'apple', 'orange', 'banana'}\n"
     ]
    }
   ],
   "source": [
    "string_list = [\"apple\", \"banana\", \"orange\", \"apple\", \"grape\", \"banana\"]\n",
    "string_set = set(string_list)\n",
    "print(string_set)"
   ]
  },
  {
   "cell_type": "code",
   "execution_count": null,
   "id": "4a59229a-7fa4-4d58-8271-2ffc4319b332",
   "metadata": {},
   "outputs": [],
   "source": []
  },
  {
   "cell_type": "code",
   "execution_count": null,
   "id": "099294ce-304a-4312-85c0-4f30d06ce7f3",
   "metadata": {},
   "outputs": [],
   "source": []
  },
  {
   "cell_type": "code",
   "execution_count": null,
   "id": "7fa105c6-cddf-4c80-8a52-9b080aae039e",
   "metadata": {},
   "outputs": [],
   "source": []
  },
  {
   "cell_type": "code",
   "execution_count": null,
   "id": "7a6c0965-eb7d-42ae-9fab-24c523920339",
   "metadata": {},
   "outputs": [],
   "source": []
  },
  {
   "cell_type": "code",
   "execution_count": null,
   "id": "750beab8-3953-4d70-9c34-564b09d72e65",
   "metadata": {},
   "outputs": [],
   "source": []
  },
  {
   "cell_type": "code",
   "execution_count": null,
   "id": "fa5d776e-cdbd-4bbc-8b9f-f390a552f043",
   "metadata": {},
   "outputs": [],
   "source": []
  }
 ],
 "metadata": {
  "kernelspec": {
   "display_name": "Python 3 (ipykernel)",
   "language": "python",
   "name": "python3"
  },
  "language_info": {
   "codemirror_mode": {
    "name": "ipython",
    "version": 3
   },
   "file_extension": ".py",
   "mimetype": "text/x-python",
   "name": "python",
   "nbconvert_exporter": "python",
   "pygments_lexer": "ipython3",
   "version": "3.13.5"
  }
 },
 "nbformat": 4,
 "nbformat_minor": 5
}
